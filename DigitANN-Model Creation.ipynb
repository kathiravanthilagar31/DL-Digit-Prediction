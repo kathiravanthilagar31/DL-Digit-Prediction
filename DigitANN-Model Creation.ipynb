{
 "cells": [
  {
   "cell_type": "code",
   "execution_count": 2,
   "id": "2624f3d6-f8f1-4b34-9da2-5ca166a60927",
   "metadata": {},
   "outputs": [],
   "source": [
    "#Basic Lib\n",
    "import pandas as pd\n",
    "import numpy as np\n",
    "\n",
    "#visualization Lib\n",
    "import matplotlib.pyplot as plt\n",
    "import pydot\n",
    "import seaborn as sns\n",
    "\n",
    "#Evaluation Lib\n",
    "from sklearn.metrics import confusion_matrix\n",
    "from sklearn.metrics import accuracy_score\n",
    "from sklearn.model_selection import GridSearchCV\n",
    "\n",
    "#DL Lib\n",
    "import tensorflow as tf\n",
    "from tensorflow.keras import layers\n",
    "import keras\n",
    "from keras.models import Sequential\n",
    "from keras.layers.core import Dense,Activation,Dropout\n",
    "from keras.datasets import mnist\n",
    "from keras.utils.np_utils import to_categorical\n",
    "from keras.wrappers.scikit_learn import KerasClassifier"
   ]
  },
  {
   "cell_type": "code",
   "execution_count": 3,
   "id": "4b0e75c5-a57c-4226-ab0c-2c764a8d9ec0",
   "metadata": {},
   "outputs": [],
   "source": [
    "(x_train_digit,y_train_digit),(x_test_digit,y_test_digit)=mnist.load_data()"
   ]
  },
  {
   "cell_type": "code",
   "execution_count": 4,
   "id": "7a6e6d27-9d9f-4285-91a1-36ff7b4c93e3",
   "metadata": {},
   "outputs": [
    {
     "data": {
      "text/plain": [
       "array([[  0,   0,   0,   0,   0,   0,   0,   0,   0,   0,   0,   0,   0,\n",
       "          0,   0,   0,   0,   0,   0,   0,   0,   0,   0,   0,   0,   0,\n",
       "          0,   0],\n",
       "       [  0,   0,   0,   0,   0,   0,   0,   0,   0,   0,   0,   0,   0,\n",
       "          0,   0,   0,   0,   0,   0,   0,   0,   0,   0,   0,   0,   0,\n",
       "          0,   0],\n",
       "       [  0,   0,   0,   0,   0,   0,   0,   0,   0,   0,   0,   0,   0,\n",
       "          0,   0,   0,   0,   0,   0,   0,   0,   0,   0,   0,   0,   0,\n",
       "          0,   0],\n",
       "       [  0,   0,   0,   0,   0,   0,   0,   0,   0,   0,   0,   0,   0,\n",
       "          0, 100, 254, 158,   0,   0,   0,   0,   0,   0,   0,   0,   0,\n",
       "          0,   0],\n",
       "       [  0,   0,   0,   0,   0,   0,   0,   0,   0,   0,   0,   0,   0,\n",
       "          0, 182, 253, 150,   0,   0,   0,   0,   0,   0,   0,   0,   0,\n",
       "          0,   0],\n",
       "       [  0,   0,   0,   0,   0,   0,   0,   0,   0,   0,   0,   0,   0,\n",
       "        123, 247, 253,  68,   0,   0,   0,   0,   0,   0,   0,   0,   0,\n",
       "          0,   0],\n",
       "       [  0,   0,   0,   0,   0,   0,   0,   0,   0,   0,   0,   0,  87,\n",
       "        247, 253, 147,   0,   0,   0,   0,   0,   0,   0,   0,   0,   0,\n",
       "          0,   0],\n",
       "       [  0,   0,   0,   0,   0,   0,   0,   0,   0,   0,   0,  23, 229,\n",
       "        253, 185,  14,   0,   0,   0,   0,   0,   0,   0,   0,   0,   0,\n",
       "          0,   0],\n",
       "       [  0,   0,   0,   0,   0,   0,   0,   0,   0,   0,   0, 141, 254,\n",
       "        254,  95,   0,   0,   0,   0,   0,   0,   0,   0,   0,   0,   0,\n",
       "          0,   0],\n",
       "       [  0,   0,   0,   0,   0,   0,   0,   0,   0,   0,  53, 254, 253,\n",
       "        141,   3,   0,   0,   0,   0,   0,   0,   0,   0,   0,   0,   0,\n",
       "          0,   0],\n",
       "       [  0,   0,   0,   0,   0,   0,   0,   0,   0,  13, 213, 254, 247,\n",
       "         54,   0,   0,   0,   0,   0,   0,   0,   0,   0,   0,   0,   0,\n",
       "          0,   0],\n",
       "       [  0,   0,   0,   0,   0,   0,   0,   0,   0,  40, 253, 254,  91,\n",
       "          0,   0,   0,   0,   0,   0,   0,   0,   0,   0,   0,   0,   0,\n",
       "          0,   0],\n",
       "       [  0,   0,   0,   0,   0,   0,   0,   0,   0, 115, 253, 231,  24,\n",
       "          0,   0,   0,   0,   0,   0,   0,   0,   0,   0,   0,   0,   0,\n",
       "          0,   0],\n",
       "       [  0,   0,   0,   0,   0,   0,   0,   0,   0, 137, 254, 135,   0,\n",
       "          0,   0,   0,   0,   0,   0,   0,   0,   0,   0,   0,   0,   0,\n",
       "          0,   0],\n",
       "       [  0,   0,   0,   0,   0,   0,   0,   0,   0, 136, 253,  98,   0,\n",
       "          0,   0,   0,   0,  17,  88, 132, 214, 155,  63,   0,   0,   0,\n",
       "          0,   0],\n",
       "       [  0,   0,   0,   0,   0,   0,   0,   0,   0, 136, 253, 165,   0,\n",
       "          0,   0,   0, 102, 241, 253, 253, 253, 254, 135,   0,   0,   0,\n",
       "          0,   0],\n",
       "       [  0,   0,   0,   0,   0,   0,   0,   0,   0,  84, 253, 249,  66,\n",
       "          0,  37, 174, 254, 250, 146,  41, 221, 254, 135,   0,   0,   0,\n",
       "          0,   0],\n",
       "       [  0,   0,   0,   0,   0,   0,   0,   0,   0,   9, 170, 254, 248,\n",
       "        128, 181, 253, 254, 233,  31, 188, 239, 193,  46,   0,   0,   0,\n",
       "          0,   0],\n",
       "       [  0,   0,   0,   0,   0,   0,   0,   0,   0,   0,   0, 172, 254,\n",
       "        254, 254, 254, 255, 254, 254, 254, 171,  38,   0,   0,   0,   0,\n",
       "          0,   0],\n",
       "       [  0,   0,   0,   0,   0,   0,   0,   0,   0,   0,   0,  44, 238,\n",
       "        253, 253, 253, 254, 253, 239, 128,   9,   0,   0,   0,   0,   0,\n",
       "          0,   0],\n",
       "       [  0,   0,   0,   0,   0,   0,   0,   0,   0,   0,   0, 156, 253,\n",
       "        253, 210, 174, 175, 129,  24,   0,   0,   0,   0,   0,   0,   0,\n",
       "          0,   0],\n",
       "       [  0,   0,   0,   0,   0,   0,   0,   0,   0,   0,   0, 141, 253,\n",
       "        195,  16,   0,   0,   0,   0,   0,   0,   0,   0,   0,   0,   0,\n",
       "          0,   0],\n",
       "       [  0,   0,   0,   0,   0,   0,   0,   0,   0,   0,   0,  36, 238,\n",
       "        182,   8,   0,   0,   0,   0,   0,   0,   0,   0,   0,   0,   0,\n",
       "          0,   0],\n",
       "       [  0,   0,   0,   0,   0,   0,   0,   0,   0,   0,   0,   0,   0,\n",
       "          0,   0,   0,   0,   0,   0,   0,   0,   0,   0,   0,   0,   0,\n",
       "          0,   0],\n",
       "       [  0,   0,   0,   0,   0,   0,   0,   0,   0,   0,   0,   0,   0,\n",
       "          0,   0,   0,   0,   0,   0,   0,   0,   0,   0,   0,   0,   0,\n",
       "          0,   0],\n",
       "       [  0,   0,   0,   0,   0,   0,   0,   0,   0,   0,   0,   0,   0,\n",
       "          0,   0,   0,   0,   0,   0,   0,   0,   0,   0,   0,   0,   0,\n",
       "          0,   0],\n",
       "       [  0,   0,   0,   0,   0,   0,   0,   0,   0,   0,   0,   0,   0,\n",
       "          0,   0,   0,   0,   0,   0,   0,   0,   0,   0,   0,   0,   0,\n",
       "          0,   0],\n",
       "       [  0,   0,   0,   0,   0,   0,   0,   0,   0,   0,   0,   0,   0,\n",
       "          0,   0,   0,   0,   0,   0,   0,   0,   0,   0,   0,   0,   0,\n",
       "          0,   0]], dtype=uint8)"
      ]
     },
     "execution_count": 4,
     "metadata": {},
     "output_type": "execute_result"
    }
   ],
   "source": [
    "x_train_digit[59000]"
   ]
  },
  {
   "cell_type": "code",
   "execution_count": 5,
   "id": "71ba9d50-4cf0-4188-bd00-29536b77a560",
   "metadata": {},
   "outputs": [
    {
     "data": {
      "text/plain": [
       "array([5, 0, 4, ..., 5, 6, 8], dtype=uint8)"
      ]
     },
     "execution_count": 5,
     "metadata": {},
     "output_type": "execute_result"
    }
   ],
   "source": [
    "y_train_digit"
   ]
  },
  {
   "cell_type": "code",
   "execution_count": 6,
   "id": "832dec87-d9c0-4c94-9b7b-9d1f10a95364",
   "metadata": {},
   "outputs": [
    {
     "data": {
      "image/png": "[encoded data removed]",
      "text/plain": [
       "<Figure size 1000x1000 with 15 Axes>"
      ]
     },
     "metadata": {},
     "output_type": "display_data"
    }
   ],
   "source": [
    "col_names=['zero','one','two','three','four','five','six','seven','eight','nine']\n",
    "\n",
    "plt.figure(figsize=(10,10))\n",
    "for i in range(15):\n",
    "    plt.subplot(5,5,i+1)\n",
    "    plt.xticks([])\n",
    "    plt.yticks([])\n",
    "    plt.imshow(x_train_digit[i],cmap='gray')\n",
    "    plt.xlabel(col_names[y_train_digit[i]])\n",
    "plt.show()"
   ]
  },
  {
   "cell_type": "code",
   "execution_count": 7,
   "id": "114d4eb6-b034-4caf-a576-1fd1cc76b0dc",
   "metadata": {},
   "outputs": [
    {
     "data": {
      "text/plain": [
       "((60000, 28, 28), (10000, 28, 28))"
      ]
     },
     "execution_count": 7,
     "metadata": {},
     "output_type": "execute_result"
    }
   ],
   "source": [
    "x_train_digit.shape,x_test_digit.shape"
   ]
  },
  {
   "cell_type": "code",
   "execution_count": 8,
   "id": "03a6fee2-5012-4157-a12e-1683a694e75b",
   "metadata": {},
   "outputs": [],
   "source": [
    "x_train_digit=x_train_digit.reshape(60000,784)\n",
    "x_test_digit=x_test_digit.reshape(10000,784)"
   ]
  },
  {
   "cell_type": "code",
   "execution_count": 9,
   "id": "7d932a57-ad6c-46ac-9492-30382d601a87",
   "metadata": {},
   "outputs": [
    {
     "data": {
      "text/plain": [
       "array([  0,   0,   0,   0,   0,   0,   0,   0,   0,   0,   0,   0,   0,\n",
       "         0,   0,   0,   0,   0,   0,   0,   0,   0,   0,   0,   0,   0,\n",
       "         0,   0,   0,   0,   0,   0,   0,   0,   0,   0,   0,   0,   0,\n",
       "         0,   0,   0,   0,   0,   0,   0,   0,   0,   0,   0,   0,   0,\n",
       "         0,   0,   0,   0,   0,   0,   0,   0,   0,   0,   0,   0,   0,\n",
       "         0,   0,   0,   0,   0,   0,   0,   0,   0,   0,   0,   0,   0,\n",
       "         0,   0,   0,   0,   0,   0,   0,   0,   0,   0,   0,   0,   0,\n",
       "         0,   0,   0,   0,   0,   0,   0, 100, 254, 158,   0,   0,   0,\n",
       "         0,   0,   0,   0,   0,   0,   0,   0,   0,   0,   0,   0,   0,\n",
       "         0,   0,   0,   0,   0,   0,   0,   0,   0, 182, 253, 150,   0,\n",
       "         0,   0,   0,   0,   0,   0,   0,   0,   0,   0,   0,   0,   0,\n",
       "         0,   0,   0,   0,   0,   0,   0,   0,   0,   0, 123, 247, 253,\n",
       "        68,   0,   0,   0,   0,   0,   0,   0,   0,   0,   0,   0,   0,\n",
       "         0,   0,   0,   0,   0,   0,   0,   0,   0,   0,   0,  87, 247,\n",
       "       253, 147,   0,   0,   0,   0,   0,   0,   0,   0,   0,   0,   0,\n",
       "         0,   0,   0,   0,   0,   0,   0,   0,   0,   0,   0,   0,  23,\n",
       "       229, 253, 185,  14,   0,   0,   0,   0,   0,   0,   0,   0,   0,\n",
       "         0,   0,   0,   0,   0,   0,   0,   0,   0,   0,   0,   0,   0,\n",
       "         0, 141, 254, 254,  95,   0,   0,   0,   0,   0,   0,   0,   0,\n",
       "         0,   0,   0,   0,   0,   0,   0,   0,   0,   0,   0,   0,   0,\n",
       "         0,   0,  53, 254, 253, 141,   3,   0,   0,   0,   0,   0,   0,\n",
       "         0,   0,   0,   0,   0,   0,   0,   0,   0,   0,   0,   0,   0,\n",
       "         0,   0,   0,  13, 213, 254, 247,  54,   0,   0,   0,   0,   0,\n",
       "         0,   0,   0,   0,   0,   0,   0,   0,   0,   0,   0,   0,   0,\n",
       "         0,   0,   0,   0,   0,  40, 253, 254,  91,   0,   0,   0,   0,\n",
       "         0,   0,   0,   0,   0,   0,   0,   0,   0,   0,   0,   0,   0,\n",
       "         0,   0,   0,   0,   0,   0,   0, 115, 253, 231,  24,   0,   0,\n",
       "         0,   0,   0,   0,   0,   0,   0,   0,   0,   0,   0,   0,   0,\n",
       "         0,   0,   0,   0,   0,   0,   0,   0,   0, 137, 254, 135,   0,\n",
       "         0,   0,   0,   0,   0,   0,   0,   0,   0,   0,   0,   0,   0,\n",
       "         0,   0,   0,   0,   0,   0,   0,   0,   0,   0,   0, 136, 253,\n",
       "        98,   0,   0,   0,   0,   0,  17,  88, 132, 214, 155,  63,   0,\n",
       "         0,   0,   0,   0,   0,   0,   0,   0,   0,   0,   0,   0,   0,\n",
       "       136, 253, 165,   0,   0,   0,   0, 102, 241, 253, 253, 253, 254,\n",
       "       135,   0,   0,   0,   0,   0,   0,   0,   0,   0,   0,   0,   0,\n",
       "         0,   0,  84, 253, 249,  66,   0,  37, 174, 254, 250, 146,  41,\n",
       "       221, 254, 135,   0,   0,   0,   0,   0,   0,   0,   0,   0,   0,\n",
       "         0,   0,   0,   0,   9, 170, 254, 248, 128, 181, 253, 254, 233,\n",
       "        31, 188, 239, 193,  46,   0,   0,   0,   0,   0,   0,   0,   0,\n",
       "         0,   0,   0,   0,   0,   0,   0,   0, 172, 254, 254, 254, 254,\n",
       "       255, 254, 254, 254, 171,  38,   0,   0,   0,   0,   0,   0,   0,\n",
       "         0,   0,   0,   0,   0,   0,   0,   0,   0,   0,  44, 238, 253,\n",
       "       253, 253, 254, 253, 239, 128,   9,   0,   0,   0,   0,   0,   0,\n",
       "         0,   0,   0,   0,   0,   0,   0,   0,   0,   0,   0,   0, 156,\n",
       "       253, 253, 210, 174, 175, 129,  24,   0,   0,   0,   0,   0,   0,\n",
       "         0,   0,   0,   0,   0,   0,   0,   0,   0,   0,   0,   0,   0,\n",
       "         0, 141, 253, 195,  16,   0,   0,   0,   0,   0,   0,   0,   0,\n",
       "         0,   0,   0,   0,   0,   0,   0,   0,   0,   0,   0,   0,   0,\n",
       "         0,   0,   0,  36, 238, 182,   8,   0,   0,   0,   0,   0,   0,\n",
       "         0,   0,   0,   0,   0,   0,   0,   0,   0,   0,   0,   0,   0,\n",
       "         0,   0,   0,   0,   0,   0,   0,   0,   0,   0,   0,   0,   0,\n",
       "         0,   0,   0,   0,   0,   0,   0,   0,   0,   0,   0,   0,   0,\n",
       "         0,   0,   0,   0,   0,   0,   0,   0,   0,   0,   0,   0,   0,\n",
       "         0,   0,   0,   0,   0,   0,   0,   0,   0,   0,   0,   0,   0,\n",
       "         0,   0,   0,   0,   0,   0,   0,   0,   0,   0,   0,   0,   0,\n",
       "         0,   0,   0,   0,   0,   0,   0,   0,   0,   0,   0,   0,   0,\n",
       "         0,   0,   0,   0,   0,   0,   0,   0,   0,   0,   0,   0,   0,\n",
       "         0,   0,   0,   0,   0,   0,   0,   0,   0,   0,   0,   0,   0,\n",
       "         0,   0,   0,   0,   0,   0,   0,   0,   0,   0,   0,   0,   0,\n",
       "         0,   0,   0,   0,   0,   0,   0,   0,   0,   0,   0,   0,   0,\n",
       "         0,   0,   0,   0], dtype=uint8)"
      ]
     },
     "execution_count": 9,
     "metadata": {},
     "output_type": "execute_result"
    }
   ],
   "source": [
    "x_train_digit[59000]"
   ]
  },
  {
   "cell_type": "code",
   "execution_count": 10,
   "id": "a7028bb1-a035-4c07-b894-73f7b5d3e7d2",
   "metadata": {},
   "outputs": [
    {
     "data": {
      "text/plain": [
       "array([[0, 0, 0, ..., 0, 0, 0],\n",
       "       [0, 0, 0, ..., 0, 0, 0],\n",
       "       [0, 0, 0, ..., 0, 0, 0],\n",
       "       ...,\n",
       "       [0, 0, 0, ..., 0, 0, 0],\n",
       "       [0, 0, 0, ..., 0, 0, 0],\n",
       "       [0, 0, 0, ..., 0, 0, 0]], dtype=uint8)"
      ]
     },
     "execution_count": 10,
     "metadata": {},
     "output_type": "execute_result"
    }
   ],
   "source": [
    "x_train_digit"
   ]
  },
  {
   "cell_type": "code",
   "execution_count": 11,
   "id": "58cf10ae-c2aa-4a3c-8274-56dbc2d3bc6e",
   "metadata": {},
   "outputs": [
    {
     "data": {
      "text/plain": [
       "(10000,)"
      ]
     },
     "execution_count": 11,
     "metadata": {},
     "output_type": "execute_result"
    }
   ],
   "source": [
    "y_test_digit.shape"
   ]
  },
  {
   "cell_type": "code",
   "execution_count": 12,
   "id": "d798135a-d4de-431e-a3a4-a2eeca4444a7",
   "metadata": {},
   "outputs": [],
   "source": [
    "y_train_digit=to_categorical(y_train_digit,num_classes=10)\n",
    "y_test_digit=to_categorical(y_test_digit,num_classes=10)"
   ]
  },
  {
   "cell_type": "code",
   "execution_count": 13,
   "id": "99510f24-15c3-4026-88db-5b4ce0735fbf",
   "metadata": {},
   "outputs": [
    {
     "data": {
      "text/plain": [
       "(10000, 10)"
      ]
     },
     "execution_count": 13,
     "metadata": {},
     "output_type": "execute_result"
    }
   ],
   "source": [
    "y_test_digit.shape"
   ]
  },
  {
   "cell_type": "code",
   "execution_count": 14,
   "id": "270fbdce-65a6-451c-a544-ca021f03fb60",
   "metadata": {},
   "outputs": [
    {
     "data": {
      "text/plain": [
       "(10,)"
      ]
     },
     "execution_count": 14,
     "metadata": {},
     "output_type": "execute_result"
    }
   ],
   "source": [
    "y_test_digit[1].shape"
   ]
  },
  {
   "cell_type": "code",
   "execution_count": 15,
   "id": "77295d74-a2a8-47e3-be5f-c0a8f2792e9b",
   "metadata": {},
   "outputs": [],
   "source": [
    "model=keras.Sequential([\n",
    "    layers.Dense(256,activation='relu',input_shape=(784,)),\n",
    "    layers.Dropout(0.3),\n",
    "    layers.BatchNormalization(),\n",
    "    layers.Dense(128,activation='relu'),\n",
    "    layers.Dropout(0.3),\n",
    "    layers.BatchNormalization(),\n",
    "    layers.Dense(64,activation='relu'),\n",
    "    layers.Dropout(0.3),\n",
    "    layers.BatchNormalization(),\n",
    "    layers.Dense(64,activation='relu'),\n",
    "    layers.Dropout(0.3),\n",
    "    layers.BatchNormalization(),\n",
    "    layers.Dense(32,activation='relu'),\n",
    "    layers.Dropout(0.3),\n",
    "    layers.BatchNormalization(),\n",
    "    layers.Dense(10,activation='sigmoid')])"
   ]
  },
  {
   "cell_type": "code",
   "execution_count": 16,
   "id": "fca437f7-2927-41a4-a33f-d12350df60e5",
   "metadata": {},
   "outputs": [
    {
     "name": "stdout",
     "output_type": "stream",
     "text": [
      "Model: \"sequential\"\n",
      "_________________________________________________________________\n",
      " Layer (type)                Output Shape              Param #   \n",
      "=================================================================\n",
      " dense (Dense)               (None, 256)               200960    \n",
      "                                                                 \n",
      " dropout (Dropout)           (None, 256)               0         \n",
      "                                                                 \n",
      " batch_normalization (BatchN  (None, 256)              1024      \n",
      " ormalization)                                                   \n",
      "                                                                 \n",
      " dense_1 (Dense)             (None, 128)               32896     \n",
      "                                                                 \n",
      " dropout_1 (Dropout)         (None, 128)               0         \n",
      "                                                                 \n",
      " batch_normalization_1 (Batc  (None, 128)              512       \n",
      " hNormalization)                                                 \n",
      "                                                                 \n",
      " dense_2 (Dense)             (None, 64)                8256      \n",
      "                                                                 \n",
      " dropout_2 (Dropout)         (None, 64)                0         \n",
      "                                                                 \n",
      " batch_normalization_2 (Batc  (None, 64)               256       \n",
      " hNormalization)                                                 \n",
      "                                                                 \n",
      " dense_3 (Dense)             (None, 64)                4160      \n",
      "                                                                 \n",
      " dropout_3 (Dropout)         (None, 64)                0         \n",
      "                                                                 \n",
      " batch_normalization_3 (Batc  (None, 64)               256       \n",
      " hNormalization)                                                 \n",
      "                                                                 \n",
      " dense_4 (Dense)             (None, 32)                2080      \n",
      "                                                                 \n",
      " dropout_4 (Dropout)         (None, 32)                0         \n",
      "                                                                 \n",
      " batch_normalization_4 (Batc  (None, 32)               128       \n",
      " hNormalization)                                                 \n",
      "                                                                 \n",
      " dense_5 (Dense)             (None, 10)                330       \n",
      "                                                                 \n",
      "=================================================================\n",
      "Total params: 250,858\n",
      "Trainable params: 249,770\n",
      "Non-trainable params: 1,088\n",
      "_________________________________________________________________\n"
     ]
    }
   ],
   "source": [
    "model.summary()"
   ]
  },
  {
   "cell_type": "code",
   "execution_count": 17,
   "id": "584be04d-56f7-462a-931d-d620aeefb293",
   "metadata": {},
   "outputs": [],
   "source": [
    "model.compile(loss='categorical_crossentropy',\n",
    "              optimizer='adam',\n",
    "              metrics=['accuracy'])"
   ]
  },
  {
   "cell_type": "code",
   "execution_count": 18,
   "id": "19ec8442-fc20-4379-94d9-fe63b8cbb820",
   "metadata": {},
   "outputs": [
    {
     "name": "stdout",
     "output_type": "stream",
     "text": [
      "Epoch 1/20\n",
      "600/600 [==============================] - 4s 4ms/step - loss: 0.9970 - accuracy: 0.6953 - val_loss: 0.2139 - val_accuracy: 0.9422\n",
      "Epoch 2/20\n",
      "600/600 [==============================] - 2s 4ms/step - loss: 0.4129 - accuracy: 0.8964 - val_loss: 0.1727 - val_accuracy: 0.9535\n",
      "Epoch 3/20\n",
      "600/600 [==============================] - 2s 4ms/step - loss: 0.3102 - accuracy: 0.9249 - val_loss: 0.1468 - val_accuracy: 0.9616\n",
      "Epoch 4/20\n",
      "600/600 [==============================] - 2s 4ms/step - loss: 0.2712 - accuracy: 0.9355 - val_loss: 0.1240 - val_accuracy: 0.9673\n",
      "Epoch 5/20\n",
      "600/600 [==============================] - 2s 4ms/step - loss: 0.2400 - accuracy: 0.9430 - val_loss: 0.1186 - val_accuracy: 0.9694\n",
      "Epoch 6/20\n",
      "600/600 [==============================] - 2s 4ms/step - loss: 0.2226 - accuracy: 0.9484 - val_loss: 0.1048 - val_accuracy: 0.9723\n",
      "Epoch 7/20\n",
      "600/600 [==============================] - 2s 4ms/step - loss: 0.2108 - accuracy: 0.9503 - val_loss: 0.1058 - val_accuracy: 0.9736\n",
      "Epoch 8/20\n",
      "600/600 [==============================] - 2s 4ms/step - loss: 0.1947 - accuracy: 0.9543 - val_loss: 0.1130 - val_accuracy: 0.9740\n",
      "Epoch 9/20\n",
      "600/600 [==============================] - 3s 5ms/step - loss: 0.1841 - accuracy: 0.9565 - val_loss: 0.1146 - val_accuracy: 0.9758\n",
      "Epoch 10/20\n",
      "600/600 [==============================] - 3s 4ms/step - loss: 0.1731 - accuracy: 0.9595 - val_loss: 0.1078 - val_accuracy: 0.9736\n",
      "Epoch 11/20\n",
      "600/600 [==============================] - 2s 4ms/step - loss: 0.1693 - accuracy: 0.9607 - val_loss: 0.0980 - val_accuracy: 0.9769\n",
      "Epoch 12/20\n",
      "600/600 [==============================] - 2s 4ms/step - loss: 0.1568 - accuracy: 0.9636 - val_loss: 0.0894 - val_accuracy: 0.9784\n",
      "Epoch 13/20\n",
      "600/600 [==============================] - 2s 4ms/step - loss: 0.1494 - accuracy: 0.9654 - val_loss: 0.0908 - val_accuracy: 0.9765\n",
      "Epoch 14/20\n",
      "600/600 [==============================] - 2s 4ms/step - loss: 0.1443 - accuracy: 0.9661 - val_loss: 0.0824 - val_accuracy: 0.9798\n",
      "Epoch 15/20\n",
      "600/600 [==============================] - 2s 4ms/step - loss: 0.1414 - accuracy: 0.9670 - val_loss: 0.0927 - val_accuracy: 0.9783\n",
      "Epoch 16/20\n",
      "600/600 [==============================] - 2s 4ms/step - loss: 0.1369 - accuracy: 0.9679 - val_loss: 0.0870 - val_accuracy: 0.9788\n",
      "Epoch 17/20\n",
      "600/600 [==============================] - 2s 4ms/step - loss: 0.1363 - accuracy: 0.9686 - val_loss: 0.0887 - val_accuracy: 0.9794\n",
      "Epoch 18/20\n",
      "600/600 [==============================] - 2s 4ms/step - loss: 0.1291 - accuracy: 0.9700 - val_loss: 0.0782 - val_accuracy: 0.9799\n",
      "Epoch 19/20\n",
      "600/600 [==============================] - 3s 5ms/step - loss: 0.1300 - accuracy: 0.9696 - val_loss: 0.0815 - val_accuracy: 0.9800\n",
      "Epoch 20/20\n",
      "600/600 [==============================] - 3s 4ms/step - loss: 0.1255 - accuracy: 0.9711 - val_loss: 0.0865 - val_accuracy: 0.9805\n"
     ]
    }
   ],
   "source": [
    "history=model.fit(x_train_digit,y_train_digit,batch_size=100,epochs=20,validation_data=(x_test_digit,y_test_digit))"
   ]
  },
  {
   "cell_type": "code",
   "execution_count": null,
   "id": "7b3028d2-0806-460a-8d7c-b38211968997",
   "metadata": {},
   "outputs": [],
   "source": []
  },
  {
   "cell_type": "code",
   "execution_count": 19,
   "id": "61fb2c46-aa24-48a7-98a8-4450963e5194",
   "metadata": {},
   "outputs": [
    {
     "name": "stdout",
     "output_type": "stream",
     "text": [
      "313/313 [==============================] - 1s 1ms/step\n"
     ]
    }
   ],
   "source": [
    "y_pred=model.predict(x_test_digit)"
   ]
  },
  {
   "cell_type": "code",
   "execution_count": 20,
   "id": "c2267f21-146e-41ff-a1bb-cd55ff5c98bb",
   "metadata": {},
   "outputs": [
    {
     "data": {
      "text/plain": [
       "array([1.92116909e-02, 3.60944301e-01, 6.82159424e-01, 8.27455521e-01,\n",
       "       4.81303006e-01, 1.19334035e-01, 9.08840331e-04, 9.99983549e-01,\n",
       "       2.80069560e-02, 9.15499926e-01], dtype=float32)"
      ]
     },
     "execution_count": 20,
     "metadata": {},
     "output_type": "execute_result"
    }
   ],
   "source": [
    "y_pred[0]"
   ]
  },
  {
   "cell_type": "code",
   "execution_count": 21,
   "id": "9ac35367-ce30-4f35-a056-21034fabe4d1",
   "metadata": {},
   "outputs": [],
   "source": [
    "y_pred=np.argmax(y_pred,axis=1)"
   ]
  },
  {
   "cell_type": "code",
   "execution_count": 22,
   "id": "3e4cef38-3ad0-4e68-8feb-b759f64bb11e",
   "metadata": {},
   "outputs": [
    {
     "data": {
      "text/plain": [
       "(array([7, 2, 1, ..., 4, 5, 6], dtype=int64), (10000,))"
      ]
     },
     "execution_count": 22,
     "metadata": {},
     "output_type": "execute_result"
    }
   ],
   "source": [
    "y_pred,y_pred.shape"
   ]
  },
  {
   "cell_type": "code",
   "execution_count": 23,
   "id": "42bf17ba-6893-416d-b2b3-ad7c94e9e41b",
   "metadata": {},
   "outputs": [],
   "source": [
    "y_test_digit_eval=np.argmax(y_test_digit,axis=1)"
   ]
  },
  {
   "cell_type": "code",
   "execution_count": 24,
   "id": "e43c5e79-313e-4e32-b693-b4873e33a313",
   "metadata": {},
   "outputs": [
    {
     "data": {
      "text/plain": [
       "array([7, 2, 1, ..., 4, 5, 6], dtype=int64)"
      ]
     },
     "execution_count": 24,
     "metadata": {},
     "output_type": "execute_result"
    }
   ],
   "source": [
    "y_test_digit_eval"
   ]
  },
  {
   "cell_type": "code",
   "execution_count": 25,
   "id": "f0b85924-f557-4e60-becc-fe8666f9ab43",
   "metadata": {},
   "outputs": [],
   "source": [
    "cm=confusion_matrix(y_test_digit_eval,y_pred)"
   ]
  },
  {
   "cell_type": "code",
   "execution_count": 26,
   "id": "e4c19388-621c-4248-bbdf-befd615cc0a6",
   "metadata": {},
   "outputs": [
    {
     "data": {
      "text/plain": [
       "array([[ 972,    0,    0,    0,    0,    1,    3,    1,    3,    0],\n",
       "       [   0, 1126,    2,    2,    0,    0,    2,    0,    3,    0],\n",
       "       [   5,    2, 1010,    3,    1,    0,    2,    5,    4,    0],\n",
       "       [   0,    0,    3,  988,    0,    5,    0,    5,    3,    6],\n",
       "       [   0,    0,    1,    0,  960,    0,    5,    3,    1,   12],\n",
       "       [   2,    0,    1,    6,    1,  873,    2,    2,    3,    2],\n",
       "       [   6,    2,    0,    1,    1,    4,  942,    0,    2,    0],\n",
       "       [   2,    3,    7,    4,    0,    0,    0, 1006,    0,    6],\n",
       "       [   4,    1,    3,    7,    4,    2,    4,    3,  943,    3],\n",
       "       [   2,    2,    1,    0,    7,    4,    0,    5,    4,  984]],\n",
       "      dtype=int64)"
      ]
     },
     "execution_count": 26,
     "metadata": {},
     "output_type": "execute_result"
    }
   ],
   "source": [
    "cm"
   ]
  },
  {
   "cell_type": "code",
   "execution_count": 28,
   "id": "8199e588-da2f-4ded-8f8e-aadf0c8ec078",
   "metadata": {},
   "outputs": [
    {
     "data": {
      "image/png": "[encoded data removed]",
      "text/plain": [
       "<Figure size 1200x1000 with 2 Axes>"
      ]
     },
     "metadata": {},
     "output_type": "display_data"
    }
   ],
   "source": [
    "sns.set_palette('deep')\n",
    "plt.figure(figsize=(12,10))\n",
    "sns.heatmap(cm,annot=True,annot_kws={'size':10},linewidth=0.5,fmt='d',cmap='gray')\n",
    "plt.title('True or False Predicted Digit MNIST\\n',fontweight='bold',fontsize=15)\n",
    "plt.show()"
   ]
  },
  {
   "cell_type": "code",
   "execution_count": 29,
   "id": "b4137487-f783-4db9-9bc5-0c0928f20174",
   "metadata": {},
   "outputs": [],
   "source": [
    "from sklearn.metrics import classification_report"
   ]
  },
  {
   "cell_type": "code",
   "execution_count": 31,
   "id": "64e495a4-34c1-466a-9d9e-f1740b8cd712",
   "metadata": {},
   "outputs": [
    {
     "name": "stdout",
     "output_type": "stream",
     "text": [
      "              precision    recall  f1-score   support\n",
      "\n",
      "           0       0.98      0.99      0.99       980\n",
      "           1       0.99      0.99      0.99      1135\n",
      "           2       0.98      0.98      0.98      1032\n",
      "           3       0.98      0.98      0.98      1010\n",
      "           4       0.99      0.98      0.98       982\n",
      "           5       0.98      0.98      0.98       892\n",
      "           6       0.98      0.98      0.98       958\n",
      "           7       0.98      0.98      0.98      1028\n",
      "           8       0.98      0.97      0.97       974\n",
      "           9       0.97      0.98      0.97      1009\n",
      "\n",
      "    accuracy                           0.98     10000\n",
      "   macro avg       0.98      0.98      0.98     10000\n",
      "weighted avg       0.98      0.98      0.98     10000\n",
      "\n"
     ]
    }
   ],
   "source": [
    "print(classification_report(y_test_digit_eval,y_pred))"
   ]
  },
  {
   "cell_type": "code",
   "execution_count": 32,
   "id": "27df221f-2e08-4619-aeec-ee0ca90a84db",
   "metadata": {},
   "outputs": [
    {
     "data": {
      "text/plain": [
       "<function matplotlib.pyplot.show(close=None, block=None)>"
      ]
     },
     "execution_count": 32,
     "metadata": {},
     "output_type": "execute_result"
    },
    {
     "data": {
      "image/png": "[encoded data removed]",
      "text/plain": [
       "<Figure size 640x480 with 1 Axes>"
      ]
     },
     "metadata": {},
     "output_type": "display_data"
    }
   ],
   "source": [
    "plt.plot(history.history['accuracy'])\n",
    "plt.plot(history.history['val_accuracy'])\n",
    "plt.title('model accuracy')\n",
    "plt.xlabel('epoch')\n",
    "plt.ylabel('accuracy')\n",
    "plt.legend(['train','test'],loc='best')\n",
    "plt.show"
   ]
  },
  {
   "cell_type": "code",
   "execution_count": 33,
   "id": "63234671-c945-4c31-9ab3-87af97405aee",
   "metadata": {},
   "outputs": [
    {
     "data": {
      "text/plain": [
       "<function matplotlib.pyplot.show(close=None, block=None)>"
      ]
     },
     "execution_count": 33,
     "metadata": {},
     "output_type": "execute_result"
    },
    {
     "data": {
      "image/png": "[encoded data removed]",
      "text/plain": [
       "<Figure size 640x480 with 1 Axes>"
      ]
     },
     "metadata": {},
     "output_type": "display_data"
    }
   ],
   "source": [
    "plt.plot(history.history['loss'])\n",
    "plt.plot(history.history['val_loss'])\n",
    "plt.title('model loss')\n",
    "plt.xlabel('epoch')\n",
    "plt.ylabel('accuracy')\n",
    "plt.legend(['train','test'],loc='best')\n",
    "plt.show"
   ]
  },
  {
   "cell_type": "code",
   "execution_count": null,
   "id": "de9f71f8-ea34-4ae7-8271-472b6bb9c5b7",
   "metadata": {},
   "outputs": [],
   "source": []
  },
  {
   "cell_type": "code",
   "execution_count": null,
   "id": "1f3ba71a-ad49-441c-9a92-4b661ea2cd9d",
   "metadata": {},
   "outputs": [],
   "source": []
  },
  {
   "cell_type": "code",
   "execution_count": 34,
   "id": "9041a61a-9489-40f4-9213-d0b254b49612",
   "metadata": {},
   "outputs": [
    {
     "name": "stdout",
     "output_type": "stream",
     "text": [
      "1/1 [==============================] - 0s 23ms/step\n"
     ]
    }
   ],
   "source": [
    "y_pred_single=model.predict(x_test_digit[[2]])\n",
    "y_pred_single=np.argmax(y_pred_single,axis=1)\n",
    "y_test_digit_eval=np.argmax(y_test_digit,axis=1)"
   ]
  },
  {
   "cell_type": "code",
   "execution_count": 35,
   "id": "b33053f2-6a59-4f08-8344-87ccf5c5798e",
   "metadata": {},
   "outputs": [
    {
     "data": {
      "text/plain": [
       "['zero',\n",
       " 'one',\n",
       " 'two',\n",
       " 'three',\n",
       " 'four',\n",
       " 'five',\n",
       " 'six',\n",
       " 'seven',\n",
       " 'eight',\n",
       " 'nine']"
      ]
     },
     "execution_count": 35,
     "metadata": {},
     "output_type": "execute_result"
    }
   ],
   "source": [
    "col_names"
   ]
  },
  {
   "cell_type": "code",
   "execution_count": 41,
   "id": "39e895fb-d356-4301-8dcc-65d5e5f79247",
   "metadata": {},
   "outputs": [
    {
     "data": {
      "text/plain": [
       "array([7, 2, 1, ..., 4, 5, 6], dtype=int64)"
      ]
     },
     "execution_count": 41,
     "metadata": {},
     "output_type": "execute_result"
    }
   ],
   "source": [
    "y_test_digit_eval"
   ]
  },
  {
   "cell_type": "code",
   "execution_count": 43,
   "id": "b5de9c44-b4ab-4cbc-842a-19053a7bea7d",
   "metadata": {},
   "outputs": [
    {
     "data": {
      "image/png": "[encoded data removed]",
      "text/plain": [
       "<Figure size 640x480 with 1 Axes>"
      ]
     },
     "metadata": {},
     "output_type": "display_data"
    }
   ],
   "source": [
    "plt.imshow(x_test_digit[2].reshape(28,28),cmap='gray')\n",
    "plt.xlabel(\"actual:{},pred:{}\".format(col_names[y_test_digit_eval[2]],col_names[y_pred_single[0]]))\n",
    "plt.show()\n",
    "                                     "
   ]
  },
  {
   "cell_type": "code",
   "execution_count": null,
   "id": "afd651cb-d7d7-4bff-ab2a-e6f745b2c088",
   "metadata": {},
   "outputs": [],
   "source": []
  },
  {
   "cell_type": "code",
   "execution_count": null,
   "id": "aa65940d-843f-48db-ace0-cfd6a685a3eb",
   "metadata": {},
   "outputs": [],
   "source": []
  }
 ],
 "metadata": {
  "kernelspec": {
   "display_name": "Python 3 (ipykernel)",
   "language": "python",
   "name": "python3"
  },
  "language_info": {
   "codemirror_mode": {
    "name": "ipython",
    "version": 3
   },
   "file_extension": ".py",
   "mimetype": "text/x-python",
   "name": "python",
   "nbconvert_exporter": "python",
   "pygments_lexer": "ipython3",
   "version": "3.11.11"
  }
 },
 "nbformat": 4,
 "nbformat_minor": 5
}
