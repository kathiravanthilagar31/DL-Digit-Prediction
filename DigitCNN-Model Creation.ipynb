{
 "cells": [
  {
   "cell_type": "code",
   "execution_count": 1,
   "id": "2624f3d6-f8f1-4b34-9da2-5ca166a60927",
   "metadata": {},
   "outputs": [],
   "source": [
    "#Basic Lib\n",
    "import pandas as pd\n",
    "import numpy as np\n",
    "\n",
    "#visualization Lib\n",
    "import matplotlib.pyplot as plt\n",
    "import pydot\n",
    "import seaborn as sns\n",
    "\n",
    "#Evaluation Lib\n",
    "from sklearn.metrics import confusion_matrix\n",
    "from sklearn.metrics import accuracy_score\n",
    "from sklearn.model_selection import GridSearchCV\n",
    "\n",
    "#DL Lib\n",
    "import tensorflow as tf\n",
    "from tensorflow.keras import layers\n",
    "import keras\n",
    "from keras.models import Sequential\n",
    "from keras.layers.core import Dense,Activation,Dropout\n",
    "from keras.datasets import mnist\n",
    "from keras.utils.np_utils import to_categorical\n",
    "from keras.wrappers.scikit_learn import KerasClassifier"
   ]
  },
  {
   "cell_type": "code",
   "execution_count": 16,
   "id": "4b0e75c5-a57c-4226-ab0c-2c764a8d9ec0",
   "metadata": {},
   "outputs": [],
   "source": [
    "(x_train_digit,y_train_digit),(x_test_digit,y_test_digit)=mnist.load_data()"
   ]
  },
  {
   "cell_type": "code",
   "execution_count": 17,
   "id": "7a6e6d27-9d9f-4285-91a1-36ff7b4c93e3",
   "metadata": {},
   "outputs": [
    {
     "data": {
      "text/plain": [
       "(60000, 28, 28)"
      ]
     },
     "execution_count": 17,
     "metadata": {},
     "output_type": "execute_result"
    }
   ],
   "source": [
    "x_train_digit.shape"
   ]
  },
  {
   "cell_type": "code",
   "execution_count": 18,
   "id": "a19a4273-793f-4671-b95b-737671cffc3b",
   "metadata": {},
   "outputs": [
    {
     "data": {
      "text/plain": [
       "(60000,)"
      ]
     },
     "execution_count": 18,
     "metadata": {},
     "output_type": "execute_result"
    }
   ],
   "source": [
    "y_train_digit.shape"
   ]
  },
  {
   "cell_type": "code",
   "execution_count": 19,
   "id": "71ba9d50-4cf0-4188-bd00-29536b77a560",
   "metadata": {},
   "outputs": [
    {
     "data": {
      "text/plain": [
       "array([5, 0, 4, ..., 5, 6, 8], dtype=uint8)"
      ]
     },
     "execution_count": 19,
     "metadata": {},
     "output_type": "execute_result"
    }
   ],
   "source": [
    "y_train_digit"
   ]
  },
  {
   "cell_type": "code",
   "execution_count": 20,
   "id": "832dec87-d9c0-4c94-9b7b-9d1f10a95364",
   "metadata": {},
   "outputs": [
    {
     "data": {
      "image/png": "[encoded data removed]",
      "text/plain": [
       "<Figure size 1000x1000 with 15 Axes>"
      ]
     },
     "metadata": {},
     "output_type": "display_data"
    }
   ],
   "source": [
    "col_names=['zero','one','two','three','four','five','six','seven','eight','nine']\n",
    "\n",
    "plt.figure(figsize=(10,10))\n",
    "for i in range(15):\n",
    "    plt.subplot(5,5,i+1)\n",
    "    plt.xticks([])\n",
    "    plt.yticks([])\n",
    "    plt.imshow(x_train_digit[i],cmap='gray')\n",
    "    plt.xlabel(col_names[y_train_digit[i]])\n",
    "plt.show()"
   ]
  },
  {
   "cell_type": "code",
   "execution_count": 21,
   "id": "114d4eb6-b034-4caf-a576-1fd1cc76b0dc",
   "metadata": {},
   "outputs": [
    {
     "data": {
      "text/plain": [
       "((60000, 28, 28), (10000, 28, 28))"
      ]
     },
     "execution_count": 21,
     "metadata": {},
     "output_type": "execute_result"
    }
   ],
   "source": [
    "x_train_digit.shape,x_test_digit.shape"
   ]
  },
  {
   "cell_type": "code",
   "execution_count": 22,
   "id": "03a6fee2-5012-4157-a12e-1683a694e75b",
   "metadata": {},
   "outputs": [],
   "source": [
    "x_train_digit=x_train_digit.reshape(60000,28,28,1)\n",
    "x_test_digit=x_test_digit.reshape(10000,28,28,1)"
   ]
  },
  {
   "cell_type": "code",
   "execution_count": 23,
   "id": "bc935031-78c8-47b5-a5e1-912055f3bfba",
   "metadata": {},
   "outputs": [
    {
     "data": {
      "text/plain": [
       "(28, 28, 1)"
      ]
     },
     "execution_count": 23,
     "metadata": {},
     "output_type": "execute_result"
    }
   ],
   "source": [
    "x_train_digit[0].shape"
   ]
  },
  {
   "cell_type": "code",
   "execution_count": 24,
   "id": "5c93e011-482d-422a-a3fa-508bd0512508",
   "metadata": {},
   "outputs": [
    {
     "data": {
      "text/plain": [
       "dtype('uint8')"
      ]
     },
     "execution_count": 24,
     "metadata": {},
     "output_type": "execute_result"
    }
   ],
   "source": [
    "x_train_digit.dtype"
   ]
  },
  {
   "cell_type": "code",
   "execution_count": 25,
   "id": "7d932a57-ad6c-46ac-9492-30382d601a87",
   "metadata": {},
   "outputs": [],
   "source": [
    "x_train_digit=x_train_digit.astype('float32')\n",
    "x_test_digit=x_test_digit.astype('float32')"
   ]
  },
  {
   "cell_type": "code",
   "execution_count": 27,
   "id": "a7028bb1-a035-4c07-b894-73f7b5d3e7d2",
   "metadata": {},
   "outputs": [
    {
     "data": {
      "text/plain": [
       "dtype('float32')"
      ]
     },
     "execution_count": 27,
     "metadata": {},
     "output_type": "execute_result"
    }
   ],
   "source": [
    "x_train_digit.dtype"
   ]
  },
  {
   "cell_type": "code",
   "execution_count": 29,
   "id": "b1928eb6-21bf-473b-8d92-2407581a2d79",
   "metadata": {},
   "outputs": [],
   "source": [
    "x_train_digit=x_train_digit/255\n",
    "x_test_digit/=255"
   ]
  },
  {
   "cell_type": "code",
   "execution_count": 46,
   "id": "2ad48010-a162-42f3-9178-a790d4efae44",
   "metadata": {},
   "outputs": [
    {
     "data": {
      "text/plain": [
       "(10000, 28, 28, 1)"
      ]
     },
     "execution_count": 46,
     "metadata": {},
     "output_type": "execute_result"
    }
   ],
   "source": [
    "x_test_digit.shape"
   ]
  },
  {
   "cell_type": "code",
   "execution_count": 43,
   "id": "58cf10ae-c2aa-4a3c-8274-56dbc2d3bc6e",
   "metadata": {},
   "outputs": [
    {
     "data": {
      "text/plain": [
       "(10000,)"
      ]
     },
     "execution_count": 43,
     "metadata": {},
     "output_type": "execute_result"
    }
   ],
   "source": [
    "y_test_digit.shape"
   ]
  },
  {
   "cell_type": "code",
   "execution_count": 71,
   "id": "742e5127-4739-4c85-b9fa-62f5318fc7d1",
   "metadata": {},
   "outputs": [],
   "source": [
    "from tensorflow.keras.layers import Conv2D,MaxPooling2D,Flatten\n",
    "model=Sequential()\n",
    "model.add(Conv2D(28,kernel_size=(3,3),input_shape=(28,28,1)))\n",
    "model.add(MaxPooling2D(pool_size=(2,2)))\n",
    "model.add(Flatten())        \n",
    "    \n",
    "model.add(Dense(128,activation='relu'))\n",
    "model.add(Dropout(0.2))\n",
    "model.add(Dense(10,activation='softmax'))"
   ]
  },
  {
   "cell_type": "code",
   "execution_count": 72,
   "id": "fca437f7-2927-41a4-a33f-d12350df60e5",
   "metadata": {},
   "outputs": [
    {
     "name": "stdout",
     "output_type": "stream",
     "text": [
      "Model: \"sequential_5\"\n",
      "_________________________________________________________________\n",
      " Layer (type)                Output Shape              Param #   \n",
      "=================================================================\n",
      " conv2d_5 (Conv2D)           (None, 26, 26, 28)        280       \n",
      "                                                                 \n",
      " max_pooling2d_4 (MaxPooling  (None, 13, 13, 28)       0         \n",
      " 2D)                                                             \n",
      "                                                                 \n",
      " flatten_3 (Flatten)         (None, 4732)              0         \n",
      "                                                                 \n",
      " dense_6 (Dense)             (None, 128)               605824    \n",
      "                                                                 \n",
      " dropout_3 (Dropout)         (None, 128)               0         \n",
      "                                                                 \n",
      " dense_7 (Dense)             (None, 10)                1290      \n",
      "                                                                 \n",
      "=================================================================\n",
      "Total params: 607,394\n",
      "Trainable params: 607,394\n",
      "Non-trainable params: 0\n",
      "_________________________________________________________________\n"
     ]
    }
   ],
   "source": [
    "model.summary()"
   ]
  },
  {
   "cell_type": "code",
   "execution_count": 73,
   "id": "584be04d-56f7-462a-931d-d620aeefb293",
   "metadata": {},
   "outputs": [],
   "source": [
    "model.compile(loss='sparse_categorical_crossentropy',\n",
    "              optimizer='adam',\n",
    "              metrics=['accuracy'])"
   ]
  },
  {
   "cell_type": "code",
   "execution_count": 74,
   "id": "19ec8442-fc20-4379-94d9-fe63b8cbb820",
   "metadata": {},
   "outputs": [
    {
     "name": "stdout",
     "output_type": "stream",
     "text": [
      "Epoch 1/10\n",
      "600/600 [==============================] - 11s 18ms/step - loss: 0.2603 - accuracy: 0.9230 - val_loss: 0.1041 - val_accuracy: 0.9681\n",
      "Epoch 2/10\n",
      "600/600 [==============================] - 12s 20ms/step - loss: 0.1053 - accuracy: 0.9689 - val_loss: 0.0658 - val_accuracy: 0.9796\n",
      "Epoch 3/10\n",
      "600/600 [==============================] - 12s 20ms/step - loss: 0.0729 - accuracy: 0.9785 - val_loss: 0.0561 - val_accuracy: 0.9813\n",
      "Epoch 4/10\n",
      "600/600 [==============================] - 12s 19ms/step - loss: 0.0543 - accuracy: 0.9836 - val_loss: 0.0522 - val_accuracy: 0.9837\n",
      "Epoch 5/10\n",
      "600/600 [==============================] - 11s 18ms/step - loss: 0.0439 - accuracy: 0.9864 - val_loss: 0.0463 - val_accuracy: 0.9848\n",
      "Epoch 6/10\n",
      "600/600 [==============================] - 11s 18ms/step - loss: 0.0350 - accuracy: 0.9887 - val_loss: 0.0451 - val_accuracy: 0.9861\n",
      "Epoch 7/10\n",
      "600/600 [==============================] - 11s 18ms/step - loss: 0.0288 - accuracy: 0.9904 - val_loss: 0.0464 - val_accuracy: 0.9862\n",
      "Epoch 8/10\n",
      "600/600 [==============================] - 11s 18ms/step - loss: 0.0259 - accuracy: 0.9916 - val_loss: 0.0463 - val_accuracy: 0.9859\n",
      "Epoch 9/10\n",
      "600/600 [==============================] - 11s 18ms/step - loss: 0.0228 - accuracy: 0.9928 - val_loss: 0.0431 - val_accuracy: 0.9869\n",
      "Epoch 10/10\n",
      "600/600 [==============================] - 11s 18ms/step - loss: 0.0185 - accuracy: 0.9942 - val_loss: 0.0462 - val_accuracy: 0.9860\n"
     ]
    }
   ],
   "source": [
    "history=model.fit(x_train_digit,y_train_digit,batch_size = 100,epochs=10,validation_data=(x_test_digit,y_test_digit))"
   ]
  },
  {
   "cell_type": "code",
   "execution_count": 75,
   "id": "7b3028d2-0806-460a-8d7c-b38211968997",
   "metadata": {},
   "outputs": [
    {
     "name": "stdout",
     "output_type": "stream",
     "text": [
      "313/313 [==============================] - 1s 2ms/step - loss: 0.0462 - accuracy: 0.9860\n"
     ]
    },
    {
     "data": {
      "text/plain": [
       "[0.04618077725172043, 0.9860000014305115]"
      ]
     },
     "execution_count": 75,
     "metadata": {},
     "output_type": "execute_result"
    }
   ],
   "source": [
    "model.evaluate(x_test_digit,y_test_digit)"
   ]
  },
  {
   "cell_type": "code",
   "execution_count": 76,
   "id": "61fb2c46-aa24-48a7-98a8-4450963e5194",
   "metadata": {},
   "outputs": [
    {
     "name": "stdout",
     "output_type": "stream",
     "text": [
      "313/313 [==============================] - 1s 2ms/step\n"
     ]
    }
   ],
   "source": [
    "y_pred=model.predict(x_test_digit)"
   ]
  },
  {
   "cell_type": "code",
   "execution_count": 79,
   "id": "c2267f21-146e-41ff-a1bb-cd55ff5c98bb",
   "metadata": {},
   "outputs": [
    {
     "data": {
      "text/plain": [
       "(10,)"
      ]
     },
     "execution_count": 79,
     "metadata": {},
     "output_type": "execute_result"
    }
   ],
   "source": [
    "y_pred[0].shape"
   ]
  },
  {
   "cell_type": "code",
   "execution_count": 82,
   "id": "9ac35367-ce30-4f35-a056-21034fabe4d1",
   "metadata": {},
   "outputs": [],
   "source": [
    "y_pred=np.argmax(y_pred,axis=1)"
   ]
  },
  {
   "cell_type": "code",
   "execution_count": 83,
   "id": "3e4cef38-3ad0-4e68-8feb-b759f64bb11e",
   "metadata": {},
   "outputs": [
    {
     "data": {
      "text/plain": [
       "(array([7, 2, 1, ..., 4, 5, 6], dtype=int64), (10000,))"
      ]
     },
     "execution_count": 83,
     "metadata": {},
     "output_type": "execute_result"
    }
   ],
   "source": [
    "y_pred,y_pred.shape"
   ]
  },
  {
   "cell_type": "code",
   "execution_count": 85,
   "id": "e43c5e79-313e-4e32-b693-b4873e33a313",
   "metadata": {},
   "outputs": [
    {
     "data": {
      "text/plain": [
       "array([7, 2, 1, ..., 4, 5, 6], dtype=uint8)"
      ]
     },
     "execution_count": 85,
     "metadata": {},
     "output_type": "execute_result"
    }
   ],
   "source": [
    "y_test_digit"
   ]
  },
  {
   "cell_type": "code",
   "execution_count": 86,
   "id": "f0b85924-f557-4e60-becc-fe8666f9ab43",
   "metadata": {},
   "outputs": [],
   "source": [
    "cm=confusion_matrix(y_test_digit,y_pred)"
   ]
  },
  {
   "cell_type": "code",
   "execution_count": 87,
   "id": "e4c19388-621c-4248-bbdf-befd615cc0a6",
   "metadata": {},
   "outputs": [
    {
     "data": {
      "text/plain": [
       "array([[ 969,    0,    1,    0,    1,    0,    4,    2,    3,    0],\n",
       "       [   0, 1128,    2,    1,    0,    0,    2,    1,    1,    0],\n",
       "       [   1,    1, 1019,    2,    1,    0,    1,    2,    5,    0],\n",
       "       [   0,    0,    2,  999,    0,    2,    0,    2,    1,    4],\n",
       "       [   0,    0,    0,    0,  974,    0,    2,    0,    0,    6],\n",
       "       [   2,    0,    0,    9,    0,  873,    5,    0,    1,    2],\n",
       "       [   1,    1,    0,    1,    1,    3,  949,    0,    2,    0],\n",
       "       [   1,    1,   11,    3,    2,    0,    0, 1005,    2,    3],\n",
       "       [   1,    0,    3,    4,    0,    1,    0,    3,  957,    5],\n",
       "       [   1,    2,    0,    4,   11,    1,    0,    2,    1,  987]],\n",
       "      dtype=int64)"
      ]
     },
     "execution_count": 87,
     "metadata": {},
     "output_type": "execute_result"
    }
   ],
   "source": [
    "cm"
   ]
  },
  {
   "cell_type": "code",
   "execution_count": 88,
   "id": "8199e588-da2f-4ded-8f8e-aadf0c8ec078",
   "metadata": {},
   "outputs": [
    {
     "data": {
      "image/png": "[encoded data removed]",
      "text/plain": [
       "<Figure size 1200x1000 with 2 Axes>"
      ]
     },
     "metadata": {},
     "output_type": "display_data"
    }
   ],
   "source": [
    "sns.set_palette('deep')\n",
    "plt.figure(figsize=(12,10))\n",
    "sns.heatmap(cm,annot=True,annot_kws={'size':10},linewidth=0.5,fmt='d',cmap='gray')\n",
    "plt.title('True or False Predicted Digit MNIST\\n',fontweight='bold',fontsize=15)\n",
    "plt.show()"
   ]
  },
  {
   "cell_type": "code",
   "execution_count": 89,
   "id": "b4137487-f783-4db9-9bc5-0c0928f20174",
   "metadata": {},
   "outputs": [],
   "source": [
    "from sklearn.metrics import classification_report"
   ]
  },
  {
   "cell_type": "code",
   "execution_count": 90,
   "id": "64e495a4-34c1-466a-9d9e-f1740b8cd712",
   "metadata": {},
   "outputs": [
    {
     "name": "stdout",
     "output_type": "stream",
     "text": [
      "              precision    recall  f1-score   support\n",
      "\n",
      "           0       0.99      0.99      0.99       980\n",
      "           1       1.00      0.99      0.99      1135\n",
      "           2       0.98      0.99      0.98      1032\n",
      "           3       0.98      0.99      0.98      1010\n",
      "           4       0.98      0.99      0.99       982\n",
      "           5       0.99      0.98      0.99       892\n",
      "           6       0.99      0.99      0.99       958\n",
      "           7       0.99      0.98      0.98      1028\n",
      "           8       0.98      0.98      0.98       974\n",
      "           9       0.98      0.98      0.98      1009\n",
      "\n",
      "    accuracy                           0.99     10000\n",
      "   macro avg       0.99      0.99      0.99     10000\n",
      "weighted avg       0.99      0.99      0.99     10000\n",
      "\n"
     ]
    }
   ],
   "source": [
    "print(classification_report(y_test_digit,y_pred))"
   ]
  },
  {
   "cell_type": "code",
   "execution_count": 91,
   "id": "27df221f-2e08-4619-aeec-ee0ca90a84db",
   "metadata": {},
   "outputs": [
    {
     "data": {
      "text/plain": [
       "<function matplotlib.pyplot.show(close=None, block=None)>"
      ]
     },
     "execution_count": 91,
     "metadata": {},
     "output_type": "execute_result"
    },
    {
     "data": {
      "image/png": "[encoded data removed]",
      "text/plain": [
       "<Figure size 640x480 with 1 Axes>"
      ]
     },
     "metadata": {},
     "output_type": "display_data"
    }
   ],
   "source": [
    "plt.plot(history.history['accuracy'])\n",
    "plt.plot(history.history['val_accuracy'])\n",
    "plt.title('model accuracy')\n",
    "plt.xlabel('epoch')\n",
    "plt.ylabel('accuracy')\n",
    "plt.legend(['train','test'],loc='best')\n",
    "plt.show"
   ]
  },
  {
   "cell_type": "code",
   "execution_count": 92,
   "id": "63234671-c945-4c31-9ab3-87af97405aee",
   "metadata": {},
   "outputs": [
    {
     "data": {
      "text/plain": [
       "<function matplotlib.pyplot.show(close=None, block=None)>"
      ]
     },
     "execution_count": 92,
     "metadata": {},
     "output_type": "execute_result"
    },
    {
     "data": {
      "image/png": "[encoded data removed]",
      "text/plain": [
       "<Figure size 640x480 with 1 Axes>"
      ]
     },
     "metadata": {},
     "output_type": "display_data"
    }
   ],
   "source": [
    "plt.plot(history.history['loss'])\n",
    "plt.plot(history.history['val_loss'])\n",
    "plt.title('model loss')\n",
    "plt.xlabel('epoch')\n",
    "plt.ylabel('accuracy')\n",
    "plt.legend(['train','test'],loc='best')\n",
    "plt.show"
   ]
  },
  {
   "cell_type": "code",
   "execution_count": null,
   "id": "de9f71f8-ea34-4ae7-8271-472b6bb9c5b7",
   "metadata": {},
   "outputs": [],
   "source": []
  },
  {
   "cell_type": "code",
   "execution_count": null,
   "id": "1f3ba71a-ad49-441c-9a92-4b661ea2cd9d",
   "metadata": {},
   "outputs": [],
   "source": []
  },
  {
   "cell_type": "code",
   "execution_count": 93,
   "id": "9041a61a-9489-40f4-9213-d0b254b49612",
   "metadata": {},
   "outputs": [
    {
     "name": "stdout",
     "output_type": "stream",
     "text": [
      "1/1 [==============================] - 0s 17ms/step\n"
     ]
    }
   ],
   "source": [
    "y_pred_single=model.predict(x_test_digit[[2]])\n",
    "y_pred_single=np.argmax(y_pred_single,axis=1)"
   ]
  },
  {
   "cell_type": "code",
   "execution_count": 94,
   "id": "b33053f2-6a59-4f08-8344-87ccf5c5798e",
   "metadata": {},
   "outputs": [
    {
     "data": {
      "text/plain": [
       "['zero',\n",
       " 'one',\n",
       " 'two',\n",
       " 'three',\n",
       " 'four',\n",
       " 'five',\n",
       " 'six',\n",
       " 'seven',\n",
       " 'eight',\n",
       " 'nine']"
      ]
     },
     "execution_count": 94,
     "metadata": {},
     "output_type": "execute_result"
    }
   ],
   "source": [
    "col_names"
   ]
  },
  {
   "cell_type": "code",
   "execution_count": 97,
   "id": "9b94504f-5684-4938-b6fd-f21902b66b9d",
   "metadata": {},
   "outputs": [
    {
     "data": {
      "text/plain": [
       "array([1], dtype=int64)"
      ]
     },
     "execution_count": 97,
     "metadata": {},
     "output_type": "execute_result"
    }
   ],
   "source": [
    "y_pred_single"
   ]
  },
  {
   "cell_type": "code",
   "execution_count": 96,
   "id": "39e895fb-d356-4301-8dcc-65d5e5f79247",
   "metadata": {},
   "outputs": [
    {
     "data": {
      "text/plain": [
       "1"
      ]
     },
     "execution_count": 96,
     "metadata": {},
     "output_type": "execute_result"
    }
   ],
   "source": [
    "y_test_digit[2]"
   ]
  },
  {
   "cell_type": "code",
   "execution_count": 98,
   "id": "b5de9c44-b4ab-4cbc-842a-19053a7bea7d",
   "metadata": {},
   "outputs": [
    {
     "data": {
      "image/png": "[encoded data removed]",
      "text/plain": [
       "<Figure size 640x480 with 1 Axes>"
      ]
     },
     "metadata": {},
     "output_type": "display_data"
    }
   ],
   "source": [
    "plt.imshow(x_test_digit[2],cmap='gray')\n",
    "plt.xlabel(\"actual:{},pred:{}\".format(col_names[y_test_digit[2]],col_names[y_pred_single[0]]))\n",
    "plt.show()\n",
    "                                     "
   ]
  },
  {
   "cell_type": "code",
   "execution_count": null,
   "id": "afd651cb-d7d7-4bff-ab2a-e6f745b2c088",
   "metadata": {},
   "outputs": [],
   "source": []
  },
  {
   "cell_type": "code",
   "execution_count": null,
   "id": "aa65940d-843f-48db-ace0-cfd6a685a3eb",
   "metadata": {},
   "outputs": [],
   "source": []
  }
 ],
 "metadata": {
  "kernelspec": {
   "display_name": "Python 3 (ipykernel)",
   "language": "python",
   "name": "python3"
  },
  "language_info": {
   "codemirror_mode": {
    "name": "ipython",
    "version": 3
   },
   "file_extension": ".py",
   "mimetype": "text/x-python",
   "name": "python",
   "nbconvert_exporter": "python",
   "pygments_lexer": "ipython3",
   "version": "3.11.11"
  }
 },
 "nbformat": 4,
 "nbformat_minor": 5
}
